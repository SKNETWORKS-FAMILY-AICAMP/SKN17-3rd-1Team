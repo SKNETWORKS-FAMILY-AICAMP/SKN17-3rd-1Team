{
 "cells": [
  {
   "cell_type": "markdown",
   "id": "ae297e6e",
   "metadata": {},
   "source": [
    "# llama api (더 정확한 RAG 데이터 생성을 위해 api사용)"
   ]
  },
  {
   "cell_type": "code",
   "execution_count": null,
   "id": "94322b37",
   "metadata": {},
   "outputs": [],
   "source": [
    "from pathlib import Path\n",
    "import nest_asyncio\n",
    "from llama_parse import LlamaParse # llama api이용 (RAG 데이터)\n",
    "import nest_asyncio\n",
    "\n",
    "PDF_DIR = Path(\"../pdfs\")\n",
    "OUT_DIR = Path(\"../outputs\")\n",
    "\n",
    "assert PDF_DIR.exists(), f\"PDF_DIR 경로를 찾을 수 없습니다. : {PDF_DIR.resolve()}\"\n",
    "pdfs = sorted(PDF_DIR.glob(\"*.pdf\"))\n",
    "if not pdfs:\n",
    "    print(f\"경로에 PDF가 없습니다. {PDF_DIR.resolve()}\")\n",
    "\n",
    "\n",
    "OUT_DIR.mkdir(parents=True, exist_ok=True)\n",
    "nest_asyncio.apply()\n",
    "for p in pdfs:\n",
    "    parser = LlamaParse(\n",
    "        api_key=\"<api_key>\",\n",
    "        parse_mode=\"parse_page_with_agent\",\n",
    "        model=\"anthropic-sonnet-4.0\",\n",
    "        high_res_ocr=True,\n",
    "        adaptive_long_table=True,\n",
    "        outlined_table_extraction=True,\n",
    "        output_tables_as_HTML=True,\n",
    "        language=\"ko\",\n",
    "        result_type=\"markdown\",\n",
    "        page_separator=\"\\n=================\\n\",\n",
    "    )\n",
    "\n",
    "    print(f\"{p.name} 변환 시작\")\n",
    "    full_file = \"\"\n",
    "    documents = parser.load_data(p)\n",
    "\n",
    "    for i in range(len(documents)):\n",
    "        full_file += f\"**=========={i + 1} 페이지==========**\\n\" + documents[i].text + \"\\n\\n\"\n",
    "\n",
    "    output_path  = OUT_DIR / f\"{p.stem}.md\"\n",
    "    output_path.write_text(full_file, encoding=\"utf-8\")"
   ]
  },
  {
   "cell_type": "markdown",
   "id": "75d5b69a",
   "metadata": {},
   "source": [
    "# 무료 라이브러리 (실제 프로젝트 설계시 사용)"
   ]
  },
  {
   "cell_type": "code",
   "execution_count": null,
   "id": "729eb70f",
   "metadata": {},
   "outputs": [],
   "source": [
    "import pymupdf4llm # pip 필요\n",
    "\n",
    "# PDF에서 텍스트 추출\n",
    "md_text = pymupdf4llm.to_markdown(\"marketing_plan_Stratsy.pdf\")\n",
    "\n",
    "md_text # 이 텍스트를 내부 벡터db저장, md_text와 사용자 텍스트를 합치고 모델 인풋으로"
   ]
  }
 ],
 "metadata": {
  "language_info": {
   "name": "python"
  }
 },
 "nbformat": 4,
 "nbformat_minor": 5
}
